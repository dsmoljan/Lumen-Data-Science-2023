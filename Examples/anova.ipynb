{
 "cells": [
  {
   "cell_type": "code",
   "execution_count": 1,
   "metadata": {},
   "outputs": [],
   "source": [
    "import pandas as pd\n",
    "from collections import defaultdict\n",
    "import librosa as lr\n",
    "import ast\n",
    "from scipy.stats import f_oneway\n",
    "from tqdm import tqdm\n",
    "import numpy as np\n",
    "import os"
   ]
  },
  {
   "cell_type": "code",
   "execution_count": 2,
   "metadata": {},
   "outputs": [],
   "source": [
    "class_mappings = {\"cel\": 0, \"cla\": 1, \"flu\": 2, \"gac\": 3, \"gel\": 4, \"org\": 5, \"pia\": 6, \"sax\": 7, \"tru\": 8, \"vio\": 9,\n",
    "                  \"voi\": 10}\n",
    "class_mappings_inv = {v: k for k, v in class_mappings.items()}\n",
    "\n",
    "df_train = pd.read_csv(\"/home/anonymous/Documents/lumen/Dataset/datalists/train.csv\")\n",
    "# shuffle the data\n",
    "df_train = df_train.sample(frac=1, random_state=42).reset_index(drop=True)\n",
    "sr = 44100\n",
    "data_root_dir = \"/home/anonymous/Documents/lumen/Dataset/\""
   ]
  },
  {
   "cell_type": "code",
   "execution_count": 3,
   "metadata": {},
   "outputs": [
    {
     "name": "stderr",
     "output_type": "stream",
     "text": [
      "100%|██████████| 6705/6705 [56:42<00:00,  1.97it/s]\n"
     ]
    }
   ],
   "source": [
    "feature_means = defaultdict(dict)\n",
    "for i, row in tqdm(df_train.iterrows(), total=len(df_train)):\n",
    "    y, sr = lr.load(os.path.join(data_root_dir, row['file_path']), sr=sr)\n",
    "    classes_id = ast.literal_eval(row['classes_id'])\n",
    "\n",
    "    zcr = lr.feature.zero_crossing_rate(y=y)\n",
    "    mfcc = lr.feature.mfcc(y=y, sr=sr, n_mfcc=13)\n",
    "    chroma = lr.feature.chroma_stft(y=y, sr=sr)\n",
    "    tonnetz = lr.feature.tonnetz(y=y, sr=sr)\n",
    "    rmse = lr.feature.rms(y=y)\n",
    "    spec_centroid = lr.feature.spectral_centroid(y=y, sr=sr)\n",
    "    spec_contrast = lr.feature.spectral_contrast(y=y, sr=sr)\n",
    "    spec_bandwidth = lr.feature.spectral_bandwidth(y=y, sr=sr)\n",
    "    spec_rolloff = lr.feature.spectral_rolloff(y=y, sr=sr)\n",
    "    spec_flatness = lr.feature.spectral_flatness(y=y)\n",
    "    poly_features = lr.feature.poly_features(y=y, sr=sr)\n",
    "    spectrogram = lr.feature.melspectrogram(y=y, sr=sr)\n",
    "    for class_id in classes_id:\n",
    "        feature_means['zcr'][class_id] = feature_means['zcr'].get(class_id, []) + [zcr.mean()]\n",
    "        feature_means['mfcc'][class_id] = feature_means['mfcc'].get(class_id, []) + [np.mean(mfcc, axis=1)]\n",
    "        feature_means['chroma'][class_id] = feature_means['chroma'].get(class_id, []) + [np.mean(chroma, axis=1)]\n",
    "        feature_means['tonnetz'][class_id] = feature_means['tonnetz'].get(class_id, []) + [np.mean(tonnetz, axis=1)]\n",
    "        feature_means['rmse'][class_id] = feature_means['rmse'].get(class_id, []) + [np.mean(rmse)]\n",
    "        feature_means['spec_centroid'][class_id] = feature_means['spec_centroid'].get(class_id, []) + [np.mean(spec_centroid)]\n",
    "        feature_means['spec_contrast'][class_id] = feature_means['spec_contrast'].get(class_id, []) + [np.mean(spec_contrast, axis=1)]\n",
    "        feature_means['spec_bandwidth'][class_id] = feature_means['spec_bandwidth'].get(class_id, []) + [np.mean(spec_bandwidth)]\n",
    "        feature_means['spec_rolloff'][class_id] = feature_means['spec_rolloff'].get(class_id, []) + [np.mean(spec_rolloff)]\n",
    "        feature_means['spec_flatness'][class_id] = feature_means['spec_flatness'].get(class_id, []) + [np.mean(spec_flatness)]\n",
    "        feature_means['poly_features'][class_id] = feature_means['poly_features'].get(class_id, []) + [np.mean(poly_features, axis=1)]\n",
    "        feature_means['spectrogram'][class_id] = feature_means['spectrogram'].get(class_id, []) + [np.mean(spectrogram, axis=1)]\n"
   ]
  },
  {
   "cell_type": "code",
   "execution_count": 4,
   "metadata": {},
   "outputs": [
    {
     "data": {
      "text/plain": [
       "F_onewayResult(statistic=98.3682622650316, pvalue=7.219058358624183e-191)"
      ]
     },
     "execution_count": 4,
     "metadata": {},
     "output_type": "execute_result"
    }
   ],
   "source": [
    "zcr_anova = f_oneway(*feature_means['zcr'].values())\n",
    "zcr_anova"
   ]
  },
  {
   "cell_type": "code",
   "execution_count": 5,
   "metadata": {},
   "outputs": [
    {
     "data": {
      "text/plain": [
       "F_onewayResult(statistic=array([263.41249626, 111.89580813, 143.77657161, 192.32016538,\n",
       "        77.85490668, 166.16300598,  67.96450158, 134.45499913,\n",
       "        28.37737807,  70.54627709,  21.33032391,  58.86691445,\n",
       "        36.22663587]), pvalue=array([0.00000000e+000, 4.60698840e-216, 7.82504395e-274, 0.00000000e+000,\n",
       "       7.33708519e-152, 4.18496843e-313, 1.04927318e-132, 3.59864258e-257,\n",
       "       6.58725529e-054, 9.97177052e-138, 1.25701151e-039, 6.90946655e-115,\n",
       "       9.13722580e-070]))"
      ]
     },
     "execution_count": 5,
     "metadata": {},
     "output_type": "execute_result"
    }
   ],
   "source": [
    "mfcc_anova = f_oneway(*feature_means['mfcc'].values())\n",
    "mfcc_anova"
   ]
  },
  {
   "cell_type": "code",
   "execution_count": 6,
   "metadata": {},
   "outputs": [
    {
     "data": {
      "text/plain": [
       "F_onewayResult(statistic=array([69.42959586, 71.47277001, 54.51550848, 70.02797273, 65.53690288,\n",
       "       56.84114643, 89.02374546, 75.83277691, 85.21376006, 62.36744044,\n",
       "       59.66775957, 88.23468   ]), pvalue=array([1.47595556e-135, 1.58596888e-139, 2.68015631e-106, 1.01333507e-136,\n",
       "       5.71609017e-128, 6.80181886e-111, 3.21260223e-173, 5.80064487e-148,\n",
       "       5.75918061e-166, 9.14101639e-122, 1.83384057e-116, 1.01468787e-171]))"
      ]
     },
     "execution_count": 6,
     "metadata": {},
     "output_type": "execute_result"
    }
   ],
   "source": [
    "chroma_anova = f_oneway(*feature_means['chroma'].values())\n",
    "chroma_anova"
   ]
  },
  {
   "cell_type": "code",
   "execution_count": 7,
   "metadata": {},
   "outputs": [
    {
     "data": {
      "text/plain": [
       "F_onewayResult(statistic=array([20.88617951, 24.90772735,  3.39897447,  1.89207563,  1.3530165 ,\n",
       "        3.26862617]), pvalue=array([9.98207001e-39, 7.05371202e-47, 1.90253953e-04, 4.14814497e-02,\n",
       "       1.95801589e-01, 3.14706777e-04]))"
      ]
     },
     "execution_count": 7,
     "metadata": {},
     "output_type": "execute_result"
    }
   ],
   "source": [
    "tonnetz_anova = f_oneway(*feature_means['tonnetz'].values())\n",
    "tonnetz_anova"
   ]
  },
  {
   "cell_type": "code",
   "execution_count": 8,
   "metadata": {},
   "outputs": [
    {
     "data": {
      "text/plain": [
       "F_onewayResult(statistic=205.05600595826243, pvalue=0.0)"
      ]
     },
     "execution_count": 8,
     "metadata": {},
     "output_type": "execute_result"
    }
   ],
   "source": [
    "rmse_anova = f_oneway(*feature_means['rmse'].values())\n",
    "rmse_anova"
   ]
  },
  {
   "cell_type": "code",
   "execution_count": 9,
   "metadata": {},
   "outputs": [
    {
     "data": {
      "text/plain": [
       "F_onewayResult(statistic=141.9143720266767, pvalue=1.6122161486406474e-270)"
      ]
     },
     "execution_count": 9,
     "metadata": {},
     "output_type": "execute_result"
    }
   ],
   "source": [
    "spec_centroid_anova = f_oneway(*feature_means['spec_centroid'].values())\n",
    "spec_centroid_anova"
   ]
  },
  {
   "cell_type": "code",
   "execution_count": 10,
   "metadata": {},
   "outputs": [
    {
     "data": {
      "text/plain": [
       "F_onewayResult(statistic=array([ 46.73170666,  58.60064023, 135.64555024, 202.35370421,\n",
       "       171.59339937, 144.05921697, 227.68815341]), pvalue=array([7.84273921e-091, 2.31099022e-114, 2.61588721e-259, 0.00000000e+000,\n",
       "       1.77863633e-322, 2.46115305e-274, 0.00000000e+000]))"
      ]
     },
     "execution_count": 10,
     "metadata": {},
     "output_type": "execute_result"
    }
   ],
   "source": [
    "spec_contrast_anova = f_oneway(*feature_means['spec_contrast'].values())\n",
    "spec_contrast_anova"
   ]
  },
  {
   "cell_type": "code",
   "execution_count": 11,
   "metadata": {},
   "outputs": [
    {
     "data": {
      "text/plain": [
       "F_onewayResult(statistic=131.40235421585385, pvalue=1.1308754453114454e-251)"
      ]
     },
     "execution_count": 11,
     "metadata": {},
     "output_type": "execute_result"
    }
   ],
   "source": [
    "spec_bandwidth_anova = f_oneway(*feature_means['spec_bandwidth'].values())\n",
    "spec_bandwidth_anova"
   ]
  },
  {
   "cell_type": "code",
   "execution_count": 12,
   "metadata": {},
   "outputs": [
    {
     "data": {
      "text/plain": [
       "F_onewayResult(statistic=139.9069098507866, pvalue=6.139326253894501e-267)"
      ]
     },
     "execution_count": 12,
     "metadata": {},
     "output_type": "execute_result"
    }
   ],
   "source": [
    "spec_rolloff_anova = f_oneway(*feature_means['spec_rolloff'].values())\n",
    "spec_rolloff_anova"
   ]
  },
  {
   "cell_type": "code",
   "execution_count": 13,
   "metadata": {},
   "outputs": [
    {
     "data": {
      "text/plain": [
       "F_onewayResult(statistic=11.987688973453903, pvalue=8.509910284345387e-21)"
      ]
     },
     "execution_count": 13,
     "metadata": {},
     "output_type": "execute_result"
    }
   ],
   "source": [
    "spec_flatness_anova = f_oneway(*feature_means['spec_flatness'].values())\n",
    "spec_flatness_anova"
   ]
  },
  {
   "cell_type": "code",
   "execution_count": 14,
   "metadata": {},
   "outputs": [
    {
     "data": {
      "text/plain": [
       "F_onewayResult(statistic=array([240.94773674, 242.83137278]), pvalue=array([0., 0.]))"
      ]
     },
     "execution_count": 14,
     "metadata": {},
     "output_type": "execute_result"
    }
   ],
   "source": [
    "poly_features_anova = f_oneway(*feature_means['poly_features'].values())\n",
    "poly_features_anova"
   ]
  },
  {
   "cell_type": "code",
   "execution_count": 15,
   "metadata": {},
   "outputs": [
    {
     "data": {
      "text/plain": [
       "F_onewayResult(statistic=array([41.75537364, 57.85840896, 57.42179583, 74.10208221, 91.66183861,\n",
       "       74.75890879, 66.67781839, 74.73530628, 48.97513719, 38.89599972,\n",
       "       49.53307349, 50.85118873, 38.58762198, 28.70970918, 28.38156956,\n",
       "       37.42859212, 22.17178745, 29.54694631, 24.38518576, 22.91719479,\n",
       "       22.99692871, 13.48991648, 11.10020987, 32.42836409, 30.0710868 ,\n",
       "       26.39941706, 14.13202522,  9.74356475, 13.57779376, 11.93816256,\n",
       "       18.78920444, 16.35053819, 15.92645646, 13.95640905, 14.17127979,\n",
       "       15.07094709, 16.01326494, 10.93770957, 12.52261668, 22.57151183,\n",
       "       13.39415706, 26.9746194 , 27.04471798, 27.65561136, 27.23581139,\n",
       "       39.15385052, 17.23918481, 10.37905718, 18.65002922, 10.78040782,\n",
       "       31.68823778, 12.01877714, 34.96198076, 39.67000647, 30.21316197,\n",
       "       27.78004476, 59.28579067, 44.5039136 , 49.09986832, 80.09744816,\n",
       "       19.6319797 , 59.56810149, 61.59261151, 62.94239944, 62.62148562,\n",
       "       48.25335277, 72.753461  , 39.81058104, 51.16853867, 36.95951974,\n",
       "       48.70061096, 65.13239452, 65.13693171, 75.58059975, 73.82104037,\n",
       "       69.3585673 , 68.9430908 , 76.81218474, 62.64342935, 35.75268872,\n",
       "       36.09961193, 54.36635879, 45.01425629, 32.51195616, 56.47757571,\n",
       "       73.60225887, 83.70034159, 55.84688645, 48.67689098, 49.66693392,\n",
       "       60.56356873, 38.30855341, 65.73145338, 63.44967858, 60.95915256,\n",
       "       43.76549966, 58.70170823, 69.32829475, 49.45093484, 61.07560305,\n",
       "       68.35609921, 52.09413911, 40.9934087 , 72.56998723, 69.51706277,\n",
       "       69.51469364, 67.23384506, 55.9653434 , 61.31369785, 51.21358516,\n",
       "       35.91984808, 20.44492101, 29.10588829, 39.40692042, 40.19101079,\n",
       "       35.11877282, 33.81061501, 21.18348937,  7.64711135,  9.52347763,\n",
       "        8.82532806,  8.64999646,  5.75501213,  5.64884001,  5.43440861,\n",
       "        5.30677771,  5.99361   ,  5.74378206]), pvalue=array([7.04619472e-081, 6.70280868e-113, 4.86536288e-112, 1.27990893e-144,\n",
       "       3.19217127e-178, 6.87657230e-146, 3.38456272e-130, 7.63807902e-146,\n",
       "       2.65224548e-095, 3.87802443e-075, 2.05757028e-096, 4.93179955e-099,\n",
       "       1.61662816e-074, 1.39902319e-054, 6.45977323e-054, 3.47006320e-072,\n",
       "       2.47797458e-041, 2.82555887e-056, 8.08328224e-046, 7.64285346e-043,\n",
       "       5.26788753e-043, 8.44771734e-024, 4.95944803e-019, 4.21163011e-062,\n",
       "       2.45757283e-057, 6.68835913e-050, 4.35059347e-025, 2.38629464e-016,\n",
       "       5.63096273e-024, 1.06817032e-020, 1.75818087e-034, 1.48802122e-029,\n",
       "       1.06614104e-028, 9.79713923e-025, 3.62845693e-025, 5.63658719e-027,\n",
       "       7.12535504e-029, 1.04198364e-018, 7.28493366e-022, 3.83645860e-042,\n",
       "       1.31414271e-023, 4.56976165e-051, 3.29518532e-051, 1.90724178e-052,\n",
       "       1.35131819e-051, 1.17577747e-075, 2.39185513e-031, 1.33067413e-017,\n",
       "       3.36228042e-034, 2.13649384e-018, 1.31868616e-060, 7.37818734e-021,\n",
       "       3.23643791e-067, 1.07943597e-076, 1.26784959e-057, 1.06752261e-052,\n",
       "       1.03491770e-115, 2.20983885e-086, 1.49744026e-095, 3.57926611e-156,\n",
       "       3.46211376e-036, 2.88013269e-116, 3.02778196e-120, 6.82133961e-123,\n",
       "       2.90323700e-122, 7.25923054e-094, 5.21830110e-142, 5.63402730e-077,\n",
       "       1.15526747e-099, 3.05254674e-071, 9.33564810e-095, 3.52861282e-127,\n",
       "       3.45728505e-127, 1.77930443e-147, 4.47514845e-144, 2.02869448e-135,\n",
       "       1.30469681e-134, 7.48752976e-150, 2.62944342e-122, 8.23924010e-069,\n",
       "       1.64721727e-069, 5.28800484e-106, 2.10909996e-087, 2.85474468e-062,\n",
       "       3.55027843e-110, 1.18612470e-143, 4.47671690e-163, 6.24957221e-109,\n",
       "       1.04081605e-094, 1.11449558e-096, 3.17760280e-118, 5.88608419e-074,\n",
       "       2.38251149e-128, 6.91905419e-124, 5.30779623e-119, 6.62968200e-085,\n",
       "       1.46134864e-114, 2.32325684e-135, 2.99753557e-096, 3.13470575e-119,\n",
       "       1.81199424e-133, 1.68067436e-101, 2.37821827e-079, 1.18298965e-141,\n",
       "       9.97642581e-136, 1.00828205e-135, 2.78589058e-131, 3.64615343e-109,\n",
       "       1.06820949e-119, 9.40217543e-100, 3.79311198e-069, 7.81787597e-038,\n",
       "       2.20699871e-055, 3.64556060e-076, 9.70093374e-078, 1.56269793e-067,\n",
       "       6.80900769e-065, 2.49377622e-039, 2.92716275e-012, 6.46528912e-016,\n",
       "       1.50882939e-014, 3.31806530e-014, 1.15141627e-008, 1.81539272e-008,\n",
       "       4.53624408e-008, 7.80416774e-008, 4.12123042e-009, 1.20829244e-008]))"
      ]
     },
     "execution_count": 15,
     "metadata": {},
     "output_type": "execute_result"
    }
   ],
   "source": [
    "spectrogram_anova = f_oneway(*feature_means['spectrogram'].values())\n",
    "spectrogram_anova"
   ]
  },
  {
   "cell_type": "code",
   "execution_count": null,
   "metadata": {},
   "outputs": [],
   "source": []
  }
 ],
 "metadata": {
  "kernelspec": {
   "display_name": "lumen",
   "language": "python",
   "name": "python3"
  },
  "language_info": {
   "codemirror_mode": {
    "name": "ipython",
    "version": 3
   },
   "file_extension": ".py",
   "mimetype": "text/x-python",
   "name": "python",
   "nbconvert_exporter": "python",
   "pygments_lexer": "ipython3",
   "version": "3.9.16 (main, Jan 11 2023, 16:05:54) \n[GCC 11.2.0]"
  },
  "orig_nbformat": 4,
  "vscode": {
   "interpreter": {
    "hash": "dff7e58e664186f92013619ff3d4b71a414e25f1adcbd65ad070b0926dee7f04"
   }
  }
 },
 "nbformat": 4,
 "nbformat_minor": 2
}
