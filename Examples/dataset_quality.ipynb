{
 "cells": [
  {
   "cell_type": "code",
   "execution_count": 27,
   "metadata": {
    "collapsed": true
   },
   "outputs": [
    {
     "ename": "ModuleNotFoundError",
     "evalue": "No module named 'pydub'",
     "output_type": "error",
     "traceback": [
      "\u001B[1;31m---------------------------------------------------------------------------\u001B[0m",
      "\u001B[1;31mModuleNotFoundError\u001B[0m                       Traceback (most recent call last)",
      "\u001B[1;32m~\\AppData\\Local\\Temp\\ipykernel_6488\\3934822.py\u001B[0m in \u001B[0;36m<module>\u001B[1;34m\u001B[0m\n\u001B[0;32m      5\u001B[0m \u001B[1;32mimport\u001B[0m \u001B[0mos\u001B[0m\u001B[1;33m\u001B[0m\u001B[1;33m\u001B[0m\u001B[0m\n\u001B[0;32m      6\u001B[0m \u001B[1;32mimport\u001B[0m \u001B[0mIPython\u001B[0m \u001B[1;32mas\u001B[0m \u001B[0mip\u001B[0m\u001B[1;33m\u001B[0m\u001B[1;33m\u001B[0m\u001B[0m\n\u001B[1;32m----> 7\u001B[1;33m \u001B[1;32mfrom\u001B[0m \u001B[0mpydub\u001B[0m \u001B[1;32mimport\u001B[0m \u001B[0mAudioSegment\u001B[0m\u001B[1;33m\u001B[0m\u001B[1;33m\u001B[0m\u001B[0m\n\u001B[0m\u001B[0;32m      8\u001B[0m \u001B[1;33m\u001B[0m\u001B[0m\n\u001B[0;32m      9\u001B[0m \u001B[0mPATH\u001B[0m \u001B[1;33m=\u001B[0m \u001B[1;34m\"C:/Users/dsmoljan/Desktop/Lumen natjecanje/Dataset/datalists/train.csv\"\u001B[0m\u001B[1;33m\u001B[0m\u001B[1;33m\u001B[0m\u001B[0m\n",
      "\u001B[1;31mModuleNotFoundError\u001B[0m: No module named 'pydub'"
     ]
    }
   ],
   "source": [
    "import pandas as pd\n",
    "import seaborn as sns\n",
    "import matplotlib.pyplot as plt\n",
    "import librosa as lr\n",
    "import os\n",
    "import IPython as ip\n",
    "from pydub import AudioSegment\n",
    "\n",
    "PATH = \"C:/Users/dsmoljan/Desktop/Lumen natjecanje/Dataset/datalists/train.csv\"\n",
    "ROOT_PATH = \"C:/Users/dsmoljan/Desktop/Lumen natjecanje/Dataset/\""
   ]
  },
  {
   "cell_type": "code",
   "execution_count": 5,
   "outputs": [
    {
     "data": {
      "text/plain": "   Unnamed: 0  classes classes_id                        file_name  \\\n0           0  ['cel']        [0]  008__[cel][nod][cla]0058__1.wav   \n1           1  ['cel']        [0]  008__[cel][nod][cla]0058__2.wav   \n2           2  ['cel']        [0]  008__[cel][nod][cla]0058__3.wav   \n3           3  ['cel']        [0]  012__[cel][nod][cla]0043__1.wav   \n4           4  ['cel']        [0]  012__[cel][nod][cla]0043__2.wav   \n\n                                           file_path  audio_length genre  \\\n0  IRMAS_Training_Data/cel/008__[cel][nod][cla]00...      2.999977   cla   \n1  IRMAS_Training_Data/cel/008__[cel][nod][cla]00...      2.999977   cla   \n2  IRMAS_Training_Data/cel/008__[cel][nod][cla]00...      2.999977   cla   \n3  IRMAS_Training_Data/cel/012__[cel][nod][cla]00...      2.999977   cla   \n4  IRMAS_Training_Data/cel/012__[cel][nod][cla]00...      2.999977   cla   \n\n   drums  \n0  False  \n1  False  \n2  False  \n3  False  \n4  False  ",
      "text/html": "<div>\n<style scoped>\n    .dataframe tbody tr th:only-of-type {\n        vertical-align: middle;\n    }\n\n    .dataframe tbody tr th {\n        vertical-align: top;\n    }\n\n    .dataframe thead th {\n        text-align: right;\n    }\n</style>\n<table border=\"1\" class=\"dataframe\">\n  <thead>\n    <tr style=\"text-align: right;\">\n      <th></th>\n      <th>Unnamed: 0</th>\n      <th>classes</th>\n      <th>classes_id</th>\n      <th>file_name</th>\n      <th>file_path</th>\n      <th>audio_length</th>\n      <th>genre</th>\n      <th>drums</th>\n    </tr>\n  </thead>\n  <tbody>\n    <tr>\n      <th>0</th>\n      <td>0</td>\n      <td>['cel']</td>\n      <td>[0]</td>\n      <td>008__[cel][nod][cla]0058__1.wav</td>\n      <td>IRMAS_Training_Data/cel/008__[cel][nod][cla]00...</td>\n      <td>2.999977</td>\n      <td>cla</td>\n      <td>False</td>\n    </tr>\n    <tr>\n      <th>1</th>\n      <td>1</td>\n      <td>['cel']</td>\n      <td>[0]</td>\n      <td>008__[cel][nod][cla]0058__2.wav</td>\n      <td>IRMAS_Training_Data/cel/008__[cel][nod][cla]00...</td>\n      <td>2.999977</td>\n      <td>cla</td>\n      <td>False</td>\n    </tr>\n    <tr>\n      <th>2</th>\n      <td>2</td>\n      <td>['cel']</td>\n      <td>[0]</td>\n      <td>008__[cel][nod][cla]0058__3.wav</td>\n      <td>IRMAS_Training_Data/cel/008__[cel][nod][cla]00...</td>\n      <td>2.999977</td>\n      <td>cla</td>\n      <td>False</td>\n    </tr>\n    <tr>\n      <th>3</th>\n      <td>3</td>\n      <td>['cel']</td>\n      <td>[0]</td>\n      <td>012__[cel][nod][cla]0043__1.wav</td>\n      <td>IRMAS_Training_Data/cel/012__[cel][nod][cla]00...</td>\n      <td>2.999977</td>\n      <td>cla</td>\n      <td>False</td>\n    </tr>\n    <tr>\n      <th>4</th>\n      <td>4</td>\n      <td>['cel']</td>\n      <td>[0]</td>\n      <td>012__[cel][nod][cla]0043__2.wav</td>\n      <td>IRMAS_Training_Data/cel/012__[cel][nod][cla]00...</td>\n      <td>2.999977</td>\n      <td>cla</td>\n      <td>False</td>\n    </tr>\n  </tbody>\n</table>\n</div>"
     },
     "execution_count": 5,
     "metadata": {},
     "output_type": "execute_result"
    }
   ],
   "source": [
    "df = pd.read_csv(PATH)\n",
    "df.head()"
   ],
   "metadata": {
    "collapsed": false
   }
  },
  {
   "cell_type": "code",
   "execution_count": 11,
   "outputs": [],
   "source": [
    "class_labels = ['cel', 'cla', 'flu', 'gac', 'gel', 'org', 'pia', 'sax', 'tru', 'vio', 'voi']\n",
    "num_samples_per_label = 10\n"
   ],
   "metadata": {
    "collapsed": false
   }
  },
  {
   "cell_type": "code",
   "execution_count": 26,
   "outputs": [
    {
     "name": "stdout",
     "output_type": "stream",
     "text": [
      "----------------------cel---------------------------\n",
      "\n",
      "\n",
      "\n",
      "\n",
      "\n",
      "\n",
      "\n",
      "\n",
      "\n",
      "\n",
      "----------------------cla---------------------------\n",
      "\n",
      "\n",
      "\n",
      "\n",
      "\n",
      "\n",
      "\n",
      "\n",
      "\n",
      "\n",
      "----------------------flu---------------------------\n",
      "\n",
      "\n",
      "\n",
      "\n",
      "\n",
      "\n",
      "\n",
      "\n",
      "\n",
      "\n",
      "----------------------gac---------------------------\n",
      "\n",
      "\n",
      "\n",
      "\n",
      "\n",
      "\n",
      "\n",
      "\n",
      "\n",
      "\n",
      "----------------------gel---------------------------\n",
      "\n",
      "\n",
      "\n",
      "\n",
      "\n",
      "\n",
      "\n",
      "\n",
      "\n",
      "\n",
      "----------------------org---------------------------\n",
      "\n",
      "\n",
      "\n",
      "\n",
      "\n",
      "\n",
      "\n",
      "\n",
      "\n",
      "\n",
      "----------------------pia---------------------------\n",
      "\n",
      "\n",
      "\n",
      "\n",
      "\n",
      "\n",
      "\n",
      "\n",
      "\n",
      "\n",
      "----------------------sax---------------------------\n",
      "\n",
      "\n",
      "\n",
      "\n",
      "\n",
      "\n",
      "\n",
      "\n",
      "\n",
      "\n",
      "----------------------tru---------------------------\n",
      "\n",
      "\n",
      "\n",
      "\n",
      "\n",
      "\n",
      "\n",
      "\n",
      "\n",
      "\n",
      "----------------------vio---------------------------\n",
      "\n",
      "\n",
      "\n",
      "\n",
      "\n",
      "\n",
      "\n",
      "\n",
      "\n",
      "\n",
      "----------------------voi---------------------------\n",
      "\n",
      "\n",
      "\n",
      "\n",
      "\n",
      "\n",
      "\n",
      "\n",
      "\n",
      "\n"
     ]
    }
   ],
   "source": [
    "for label in class_labels:\n",
    "    label_samples = df[df[\"classes\"].apply(lambda x: label in x)].sample(n=num_samples_per_label, random_state=42)\n",
    "    print(f\"----------------------{label}---------------------------\")\n",
    "    for index, row in label_samples.iterrows():\n",
    "        path = row['file_path']\n",
    "        audio = AudioSegment.from_file(path)\n",
    "        audio.export(format='wav').play()"
   ],
   "metadata": {
    "collapsed": false
   }
  },
  {
   "cell_type": "code",
   "execution_count": null,
   "outputs": [],
   "source": [],
   "metadata": {
    "collapsed": false
   }
  }
 ],
 "metadata": {
  "kernelspec": {
   "display_name": "Python 3",
   "language": "python",
   "name": "python3"
  },
  "language_info": {
   "codemirror_mode": {
    "name": "ipython",
    "version": 2
   },
   "file_extension": ".py",
   "mimetype": "text/x-python",
   "name": "python",
   "nbconvert_exporter": "python",
   "pygments_lexer": "ipython2",
   "version": "2.7.6"
  }
 },
 "nbformat": 4,
 "nbformat_minor": 0
}
