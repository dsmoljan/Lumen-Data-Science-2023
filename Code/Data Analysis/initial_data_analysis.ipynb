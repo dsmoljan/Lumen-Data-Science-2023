{
 "cells": [
  {
   "cell_type": "code",
   "execution_count": 1,
   "id": "1a9b9f01-7aa0-4e74-b86e-1bae757555a1",
   "metadata": {},
   "outputs": [
    {
     "name": "stderr",
     "output_type": "stream",
     "text": [
      "C:\\Users\\dsmoljan\\anaconda3\\lib\\site-packages\\paramiko\\transport.py:219: CryptographyDeprecationWarning: Blowfish has been deprecated\n",
      "  \"class\": algorithms.Blowfish,\n"
     ]
    }
   ],
   "source": [
    "%matplotlib inline\n",
    "\n",
    "from IPython.display import Audio\n",
    "from IPython.display import Image\n",
    "\n",
    "import numpy as np \n",
    "import librosa as lr\n",
    "import librosa.display\n",
    "import matplotlib.pyplot as plt\n",
    "import pandas as pd"
   ]
  },
  {
   "cell_type": "code",
   "execution_count": 2,
   "id": "b11b7a4b-9764-4bd1-b97d-71ea314de2d5",
   "metadata": {},
   "outputs": [],
   "source": [
    "df_train = pd.read_csv(\"train.csv\")\n",
    "df_test = pd.read_csv(\"test.csv\")"
   ]
  },
  {
   "cell_type": "code",
   "execution_count": 3,
   "id": "f4c14bda-74d2-499c-a84b-035d64ba9d2d",
   "metadata": {},
   "outputs": [
    {
     "data": {
      "text/html": [
       "<div>\n",
       "<style scoped>\n",
       "    .dataframe tbody tr th:only-of-type {\n",
       "        vertical-align: middle;\n",
       "    }\n",
       "\n",
       "    .dataframe tbody tr th {\n",
       "        vertical-align: top;\n",
       "    }\n",
       "\n",
       "    .dataframe thead th {\n",
       "        text-align: right;\n",
       "    }\n",
       "</style>\n",
       "<table border=\"1\" class=\"dataframe\">\n",
       "  <thead>\n",
       "    <tr style=\"text-align: right;\">\n",
       "      <th></th>\n",
       "      <th>Unnamed: 0</th>\n",
       "      <th>classes</th>\n",
       "      <th>classes_id</th>\n",
       "      <th>file_name</th>\n",
       "      <th>file_path</th>\n",
       "      <th>audio_length</th>\n",
       "      <th>genre</th>\n",
       "      <th>drums</th>\n",
       "    </tr>\n",
       "  </thead>\n",
       "  <tbody>\n",
       "    <tr>\n",
       "      <th>0</th>\n",
       "      <td>0</td>\n",
       "      <td>['cel']</td>\n",
       "      <td>[0]</td>\n",
       "      <td>008__[cel][nod][cla]0058__1.wav</td>\n",
       "      <td>IRMAS_Training_Data/cel/008__[cel][nod][cla]00...</td>\n",
       "      <td>2.999977</td>\n",
       "      <td>cla</td>\n",
       "      <td>False</td>\n",
       "    </tr>\n",
       "    <tr>\n",
       "      <th>1</th>\n",
       "      <td>1</td>\n",
       "      <td>['cel']</td>\n",
       "      <td>[0]</td>\n",
       "      <td>008__[cel][nod][cla]0058__2.wav</td>\n",
       "      <td>IRMAS_Training_Data/cel/008__[cel][nod][cla]00...</td>\n",
       "      <td>2.999977</td>\n",
       "      <td>cla</td>\n",
       "      <td>False</td>\n",
       "    </tr>\n",
       "    <tr>\n",
       "      <th>2</th>\n",
       "      <td>2</td>\n",
       "      <td>['cel']</td>\n",
       "      <td>[0]</td>\n",
       "      <td>008__[cel][nod][cla]0058__3.wav</td>\n",
       "      <td>IRMAS_Training_Data/cel/008__[cel][nod][cla]00...</td>\n",
       "      <td>2.999977</td>\n",
       "      <td>cla</td>\n",
       "      <td>False</td>\n",
       "    </tr>\n",
       "    <tr>\n",
       "      <th>3</th>\n",
       "      <td>3</td>\n",
       "      <td>['cel']</td>\n",
       "      <td>[0]</td>\n",
       "      <td>012__[cel][nod][cla]0043__1.wav</td>\n",
       "      <td>IRMAS_Training_Data/cel/012__[cel][nod][cla]00...</td>\n",
       "      <td>2.999977</td>\n",
       "      <td>cla</td>\n",
       "      <td>False</td>\n",
       "    </tr>\n",
       "    <tr>\n",
       "      <th>4</th>\n",
       "      <td>4</td>\n",
       "      <td>['cel']</td>\n",
       "      <td>[0]</td>\n",
       "      <td>012__[cel][nod][cla]0043__2.wav</td>\n",
       "      <td>IRMAS_Training_Data/cel/012__[cel][nod][cla]00...</td>\n",
       "      <td>2.999977</td>\n",
       "      <td>cla</td>\n",
       "      <td>False</td>\n",
       "    </tr>\n",
       "  </tbody>\n",
       "</table>\n",
       "</div>"
      ],
      "text/plain": [
       "   Unnamed: 0  classes classes_id                        file_name  \\\n",
       "0           0  ['cel']        [0]  008__[cel][nod][cla]0058__1.wav   \n",
       "1           1  ['cel']        [0]  008__[cel][nod][cla]0058__2.wav   \n",
       "2           2  ['cel']        [0]  008__[cel][nod][cla]0058__3.wav   \n",
       "3           3  ['cel']        [0]  012__[cel][nod][cla]0043__1.wav   \n",
       "4           4  ['cel']        [0]  012__[cel][nod][cla]0043__2.wav   \n",
       "\n",
       "                                           file_path  audio_length genre  \\\n",
       "0  IRMAS_Training_Data/cel/008__[cel][nod][cla]00...      2.999977   cla   \n",
       "1  IRMAS_Training_Data/cel/008__[cel][nod][cla]00...      2.999977   cla   \n",
       "2  IRMAS_Training_Data/cel/008__[cel][nod][cla]00...      2.999977   cla   \n",
       "3  IRMAS_Training_Data/cel/012__[cel][nod][cla]00...      2.999977   cla   \n",
       "4  IRMAS_Training_Data/cel/012__[cel][nod][cla]00...      2.999977   cla   \n",
       "\n",
       "   drums  \n",
       "0  False  \n",
       "1  False  \n",
       "2  False  \n",
       "3  False  \n",
       "4  False  "
      ]
     },
     "execution_count": 3,
     "metadata": {},
     "output_type": "execute_result"
    }
   ],
   "source": [
    "df_train.head()"
   ]
  },
  {
   "cell_type": "code",
   "execution_count": 4,
   "id": "8ee87e49-167b-474a-9524-1f0f976df9d6",
   "metadata": {},
   "outputs": [
    {
     "data": {
      "text/html": [
       "<div>\n",
       "<style scoped>\n",
       "    .dataframe tbody tr th:only-of-type {\n",
       "        vertical-align: middle;\n",
       "    }\n",
       "\n",
       "    .dataframe tbody tr th {\n",
       "        vertical-align: top;\n",
       "    }\n",
       "\n",
       "    .dataframe thead th {\n",
       "        text-align: right;\n",
       "    }\n",
       "</style>\n",
       "<table border=\"1\" class=\"dataframe\">\n",
       "  <thead>\n",
       "    <tr style=\"text-align: right;\">\n",
       "      <th></th>\n",
       "      <th>Unnamed: 0</th>\n",
       "      <th>classes</th>\n",
       "      <th>classes_id</th>\n",
       "      <th>file_name</th>\n",
       "      <th>file_path</th>\n",
       "      <th>audio_length</th>\n",
       "    </tr>\n",
       "  </thead>\n",
       "  <tbody>\n",
       "    <tr>\n",
       "      <th>0</th>\n",
       "      <td>0</td>\n",
       "      <td>['gel']</td>\n",
       "      <td>[4]</td>\n",
       "      <td>(02) dont kill the whale-1.wav</td>\n",
       "      <td>IRMAS_Validation_Data/(02) dont kill the whale...</td>\n",
       "      <td>19.8</td>\n",
       "    </tr>\n",
       "    <tr>\n",
       "      <th>1</th>\n",
       "      <td>1</td>\n",
       "      <td>['gel']</td>\n",
       "      <td>[4]</td>\n",
       "      <td>(02) dont kill the whale-11.wav</td>\n",
       "      <td>IRMAS_Validation_Data/(02) dont kill the whale...</td>\n",
       "      <td>10.4</td>\n",
       "    </tr>\n",
       "    <tr>\n",
       "      <th>2</th>\n",
       "      <td>2</td>\n",
       "      <td>['gel', 'voi']</td>\n",
       "      <td>[4, 10]</td>\n",
       "      <td>(02) dont kill the whale-12.wav</td>\n",
       "      <td>IRMAS_Validation_Data/(02) dont kill the whale...</td>\n",
       "      <td>6.4</td>\n",
       "    </tr>\n",
       "    <tr>\n",
       "      <th>3</th>\n",
       "      <td>3</td>\n",
       "      <td>['gel', 'voi']</td>\n",
       "      <td>[4, 10]</td>\n",
       "      <td>(02) dont kill the whale-13.wav</td>\n",
       "      <td>IRMAS_Validation_Data/(02) dont kill the whale...</td>\n",
       "      <td>6.9</td>\n",
       "    </tr>\n",
       "    <tr>\n",
       "      <th>4</th>\n",
       "      <td>4</td>\n",
       "      <td>['gel', 'voi']</td>\n",
       "      <td>[4, 10]</td>\n",
       "      <td>(02) dont kill the whale-14.wav</td>\n",
       "      <td>IRMAS_Validation_Data/(02) dont kill the whale...</td>\n",
       "      <td>13.2</td>\n",
       "    </tr>\n",
       "  </tbody>\n",
       "</table>\n",
       "</div>"
      ],
      "text/plain": [
       "   Unnamed: 0         classes classes_id                        file_name  \\\n",
       "0           0         ['gel']        [4]   (02) dont kill the whale-1.wav   \n",
       "1           1         ['gel']        [4]  (02) dont kill the whale-11.wav   \n",
       "2           2  ['gel', 'voi']    [4, 10]  (02) dont kill the whale-12.wav   \n",
       "3           3  ['gel', 'voi']    [4, 10]  (02) dont kill the whale-13.wav   \n",
       "4           4  ['gel', 'voi']    [4, 10]  (02) dont kill the whale-14.wav   \n",
       "\n",
       "                                           file_path  audio_length  \n",
       "0  IRMAS_Validation_Data/(02) dont kill the whale...          19.8  \n",
       "1  IRMAS_Validation_Data/(02) dont kill the whale...          10.4  \n",
       "2  IRMAS_Validation_Data/(02) dont kill the whale...           6.4  \n",
       "3  IRMAS_Validation_Data/(02) dont kill the whale...           6.9  \n",
       "4  IRMAS_Validation_Data/(02) dont kill the whale...          13.2  "
      ]
     },
     "execution_count": 4,
     "metadata": {},
     "output_type": "execute_result"
    }
   ],
   "source": [
    "df_test.head()"
   ]
  },
  {
   "cell_type": "code",
   "execution_count": 5,
   "id": "2655b516-f8ec-40ee-ae22-ad73d13d17d6",
   "metadata": {},
   "outputs": [
    {
     "data": {
      "text/plain": [
       "(6705, 8)"
      ]
     },
     "execution_count": 5,
     "metadata": {},
     "output_type": "execute_result"
    }
   ],
   "source": [
    "df_train.shape"
   ]
  },
  {
   "cell_type": "code",
   "execution_count": 6,
   "id": "e3e60fe2-5170-4e19-8638-17049d9d74e8",
   "metadata": {},
   "outputs": [
    {
     "data": {
      "text/plain": [
       "(2874, 6)"
      ]
     },
     "execution_count": 6,
     "metadata": {},
     "output_type": "execute_result"
    }
   ],
   "source": [
    "df_test.shape"
   ]
  },
  {
   "cell_type": "markdown",
   "id": "69daa096-2f95-4e07-8247-dc947089bb48",
   "metadata": {},
   "source": [
    "# Analysing the train dataset"
   ]
  },
  {
   "cell_type": "code",
   "execution_count": 7,
   "id": "c665394d-071a-4b6b-91b4-7ae2f26c50c4",
   "metadata": {},
   "outputs": [
    {
     "name": "stdout",
     "output_type": "stream",
     "text": [
      "<class 'pandas.core.frame.DataFrame'>\n",
      "RangeIndex: 6705 entries, 0 to 6704\n",
      "Data columns (total 8 columns):\n",
      " #   Column        Non-Null Count  Dtype  \n",
      "---  ------        --------------  -----  \n",
      " 0   Unnamed: 0    6705 non-null   int64  \n",
      " 1   classes       6705 non-null   object \n",
      " 2   classes_id    6705 non-null   object \n",
      " 3   file_name     6705 non-null   object \n",
      " 4   file_path     6705 non-null   object \n",
      " 5   audio_length  6705 non-null   float64\n",
      " 6   genre         6705 non-null   object \n",
      " 7   drums         1882 non-null   object \n",
      "dtypes: float64(1), int64(1), object(6)\n",
      "memory usage: 419.2+ KB\n"
     ]
    }
   ],
   "source": [
    "df_train.info()"
   ]
  },
  {
   "cell_type": "markdown",
   "id": "02e38029-f503-460d-97da-ca1efa2b7f0d",
   "metadata": {},
   "source": [
    "The only interesting thing visible from the info method is that information about the presence of drums is available in only 1882 out of 6705 entires, or around 28% of the dataset. All the examples contain information about the example's class, audio length and genre."
   ]
  },
  {
   "cell_type": "code",
   "execution_count": 8,
   "id": "6fef9504-36e8-4836-8582-9d3be22fa1e4",
   "metadata": {},
   "outputs": [
    {
     "data": {
      "text/plain": [
       "True"
      ]
     },
     "execution_count": 8,
     "metadata": {},
     "output_type": "execute_result"
    }
   ],
   "source": [
    "df_train[\"audio_length\"].nunique() == 1"
   ]
  },
  {
   "cell_type": "markdown",
   "id": "c6bbb6dd-ae26-4c65-bfda-76b03fa45692",
   "metadata": {},
   "source": [
    "We can see that all train samples have the same length of 3 seconds."
   ]
  },
  {
   "cell_type": "code",
   "execution_count": 9,
   "id": "d9107a0d-348d-4ddf-9d9e-15a76a2f0d0d",
   "metadata": {},
   "outputs": [
    {
     "data": {
      "text/plain": [
       "['voi']    778\n",
       "['gel']    760\n",
       "['pia']    721\n",
       "['org']    682\n",
       "['gac']    637\n",
       "['sax']    626\n",
       "['vio']    580\n",
       "['tru']    577\n",
       "['cla']    505\n",
       "['flu']    451\n",
       "['cel']    388\n",
       "Name: classes, dtype: int64"
      ]
     },
     "execution_count": 9,
     "metadata": {},
     "output_type": "execute_result"
    }
   ],
   "source": [
    "value_counts = df_train[\"classes\"].value_counts()\n",
    "value_counts"
   ]
  },
  {
   "cell_type": "code",
   "execution_count": 10,
   "id": "807d5323-5db0-4841-ad41-afa01b117a8f",
   "metadata": {},
   "outputs": [
    {
     "data": {
      "text/plain": [
       "['voi']    11.603281\n",
       "['gel']    11.334825\n",
       "['pia']    10.753169\n",
       "['org']    10.171514\n",
       "['gac']     9.500373\n",
       "['sax']     9.336316\n",
       "['vio']     8.650261\n",
       "['tru']     8.605518\n",
       "['cla']     7.531693\n",
       "['flu']     6.726324\n",
       "['cel']     5.786726\n",
       "Name: classes, dtype: float64"
      ]
     },
     "execution_count": 10,
     "metadata": {},
     "output_type": "execute_result"
    }
   ],
   "source": [
    "percentages = value_counts / len(df_train) * 100\n",
    "percentages"
   ]
  },
  {
   "cell_type": "code",
   "execution_count": 11,
   "id": "58c36d8f-bac9-46a9-bda1-c2e501b1d197",
   "metadata": {},
   "outputs": [
    {
     "data": {
      "image/png": "[encoded data removed]",
      "text/plain": [
       "<Figure size 640x480 with 1 Axes>"
      ]
     },
     "metadata": {},
     "output_type": "display_data"
    }
   ],
   "source": [
    "plt.bar(percentages.index, percentages.values)\n",
    "\n",
    "plt.title('Percentage of examples by class')\n",
    "plt.xlabel('Class')\n",
    "plt.ylabel('Percentage')\n",
    "\n",
    "plt.show()"
   ]
  },
  {
   "cell_type": "markdown",
   "id": "d2e1b6bc-b002-47d3-a2d0-aeff443d28f2",
   "metadata": {},
   "source": [
    "We can see that the most represented classes are voice, electric guitar and piano, each being present in between 10.5% - 11.5% of the dataset. On the other hand, the flute and cello are present in the least amount of examples, 6.72% and 5.78%, respectively. This could prove to be a problem, as the class that occures most often appears around 2x more often that the least represented class."
   ]
  },
  {
   "cell_type": "code",
   "execution_count": 14,
   "id": "e4087e35-8318-4f46-8a2a-d65c9d62c4b3",
   "metadata": {},
   "outputs": [
    {
     "data": {
      "text/plain": [
       "'IRMAS_Training_Data/cel/008__[cel][nod][cla]0058__2.wav'"
      ]
     },
     "execution_count": 14,
     "metadata": {},
     "output_type": "execute_result"
    }
   ],
   "source": [
    "df_train.iloc[[1]][\"file_path\"].item()"
   ]
  },
  {
   "cell_type": "code",
   "execution_count": null,
   "id": "577530e6-f1f9-4802-9795-7757fe9bce88",
   "metadata": {},
   "outputs": [],
   "source": []
  }
 ],
 "metadata": {
  "kernelspec": {
   "display_name": "Python 3 (ipykernel)",
   "language": "python",
   "name": "python3"
  },
  "language_info": {
   "codemirror_mode": {
    "name": "ipython",
    "version": 3
   },
   "file_extension": ".py",
   "mimetype": "text/x-python",
   "name": "python",
   "nbconvert_exporter": "python",
   "pygments_lexer": "ipython3",
   "version": "3.9.13"
  }
 },
 "nbformat": 4,
 "nbformat_minor": 5
}
